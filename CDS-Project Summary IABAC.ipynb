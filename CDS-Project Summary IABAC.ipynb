{
 "cells": [
  {
   "cell_type": "markdown",
   "id": "1916a80b",
   "metadata": {},
   "source": [
    "# Employee Performance Analysis - INX Future Inc\n",
    " "
   ]
  },
  {
   "cell_type": "markdown",
   "id": "b6b9799d",
   "metadata": {},
   "source": [
    "## Project Summary"
   ]
  },
  {
   "cell_type": "markdown",
   "id": "efd44ba5",
   "metadata": {},
   "source": [
    "The Data science project which is given here is an analysis of employee performance from INX Future Inc. The project goal is to find the performance rating of the employees from each feature of their data such as total work experience, gender, department, current role..etc. The Goal and Insights of the project as follows,\n",
    "\n"
   ]
  },
  {
   "cell_type": "markdown",
   "id": "9b626530",
   "metadata": {},
   "source": [
    "- Department wise performances\n",
    "- Top 3 Important Factors effecting employee performance\n",
    "- A trained model which can predict the employee performance based on factors as inputs. This will be used to hire employees\n",
    "- Recommendations to improve the employee performance based on insights from analysis.\n"
   ]
  },
  {
   "cell_type": "markdown",
   "id": "45362b61",
   "metadata": {},
   "source": [
    " The given data of employees has the 1200 data to perform a higher level machine learning where it is well structured. The features present in the data are 28 in total. The Shape of the data is 1200x28. The 28 features are classified into quantitative and qualitative where 9 features are qualitative and 19 features are quantitative."
   ]
  },
  {
   "cell_type": "markdown",
   "id": "0cd8c046",
   "metadata": {},
   "source": [
    "The dataset is a complete labelled data and categorical which decides the machine learning algorithm to be used. The important aspects of the data are depending on the correlation of data between features and performance rating. The analysis of the project has gone through the stage of distribution analysis, correlation analysis and analysis by each department to satisfy the project goal."
   ]
  },
  {
   "cell_type": "markdown",
   "id": "895c9048",
   "metadata": {},
   "source": [
    "The machine learning model which is used in this project is Logistic Regression and Random Forest Classifier which predicted the nearby higher accuracy of 96%. Since it is categorical labelled data, it has to go through the classifier machine learning techniques which will be suitable for this structured data. The numerical features are the most relevant in the model according to correlation technique."
   ]
  },
  {
   "cell_type": "markdown",
   "id": "57a0cc4c",
   "metadata": {},
   "source": [
    "One of the goals of this project is to find the important feature effecting the performance rating. The important features were predicted using the machine learning model feature importance technique. The main technique used in the preprocessing data using the Label encoding method to convert the string-categorical data into numerical data, because, the most of machine learning methods are based on numerical methods where strings are not supportive. The overall project was performed and achieved the goals by using the machine learning model and visualization techniques."
   ]
  },
  {
   "cell_type": "markdown",
   "id": "48537229",
   "metadata": {},
   "source": [
    "# 1.Requirement"
   ]
  },
  {
   "cell_type": "markdown",
   "id": "a542be41",
   "metadata": {},
   "source": [
    "The data was given from the IABAC for this project where the collected source is IABAC. The data is based on INX Future Inc, (referred as INX ). It is one of the leading data analytics and automation solutions provider with over 15 years of global business presence. The data is not from the real organization. The whole project was done in Jupiter notebook with python platform.\n",
    "\n",
    "INSIGHTS OF THE PROJECT :\n",
    "\n",
    "- Department wise performances\n",
    "- Top 3 Important Factors effecting employee performance\n",
    "- A trained model which can predict the employee performance based on factors as inputs. This will be used to hire employees\n",
    "- Recommendations to improve the employee performance based on insights from analysis."
   ]
  },
  {
   "cell_type": "markdown",
   "id": "970e1ff4",
   "metadata": {},
   "source": [
    "# 2 .Analysis"
   ]
  },
  {
   "cell_type": "markdown",
   "id": "4b9af7c2",
   "metadata": {},
   "source": [
    "Data were analyzed by describing the features present in the data. the features play the bigger part in the analysis. the features tell the relation between the dependent and independent variables. Pandas also help to describe the datasets answering following questions early in our project. The futures present in the data are divided into numerical and categorical data."
   ]
  },
  {
   "cell_type": "markdown",
   "id": "35dd92b3",
   "metadata": {},
   "source": [
    "## Categorical Features"
   ]
  },
  {
   "cell_type": "markdown",
   "id": "b3e1e268",
   "metadata": {},
   "source": [
    "- EmpNumber\n",
    "- Gender\n",
    "- EducationBackground\n",
    "- MaritalStatus\n",
    "- EmpDepartment\n",
    "- EmpJobRole\n",
    "- BusinessTravelFrequency\n",
    "- OverTime\n",
    "- Attrition"
   ]
  },
  {
   "cell_type": "markdown",
   "id": "6e84491c",
   "metadata": {},
   "source": [
    "## Numerical Features "
   ]
  },
  {
   "cell_type": "markdown",
   "id": "80282f85",
   "metadata": {},
   "source": [
    "- Age\n",
    "- DistanceFromHome\n",
    "- EmpHourlyRate\n",
    "- NumCompaniesWorked\n",
    "- EmpLastSalaryHikePercent\n",
    "- TotalWorkExperienceInYears\n",
    "- TrainingTimesLastYear\n",
    "- ExperienceYearsAtThisCompany\n",
    "- ExperienceYearsInCurrentRole\n",
    "- YearsSinceLastPromotion\n",
    "- YearsWithCurrManager"
   ]
  },
  {
   "cell_type": "markdown",
   "id": "60262812",
   "metadata": {},
   "source": [
    "# Ordinal Features"
   ]
  },
  {
   "cell_type": "markdown",
   "id": "54c11490",
   "metadata": {},
   "source": [
    "- EmpEducationLevel\n",
    "- EmpEnvironmentSatisfaction\n",
    "- EmpJobInvolvement\n",
    "- EmpJobLevel\n",
    "- EmpJobSatisfaction\n",
    "- EmpRelationshipSatisfaction\n",
    "- EmpWorkLifeBalance\n",
    "- PerformanceRating"
   ]
  },
  {
   "cell_type": "markdown",
   "id": "a8357659",
   "metadata": {},
   "source": [
    "# 3.Univariate, Bivariate & Multivariate Analysis\n"
   ]
  },
  {
   "cell_type": "markdown",
   "id": "3f6688eb",
   "metadata": {},
   "source": [
    "- Library Used: Matplotlib & Seaborn\n",
    "- Plots Used: Histplot, Lineplot, CountPlot, Barplot\n",
    "- Tip: All Observation or insights written below the plots\n"
   ]
  },
  {
   "cell_type": "markdown",
   "id": "537c397b",
   "metadata": {},
   "source": [
    "Univariate Analysis: In univariate analysis we get the unique labels of categorical features, as well as get the range & density of numbers.\n",
    "\n",
    "Bivariate Analysis: In bivariate analysis we check the feature relationship with target veriable.\n",
    "\n",
    "Multivariate Analysis: In multivariate Analysis check the relationship between two veriable with respect to the target veriable."
   ]
  },
  {
   "cell_type": "markdown",
   "id": "e2a6dac3",
   "metadata": {},
   "source": [
    "# 4.Exploratory Data Analysis"
   ]
  },
  {
   "cell_type": "markdown",
   "id": "57223b9a",
   "metadata": {},
   "source": [
    "### Basic Check & Statistical Measures\n"
   ]
  },
  {
   "cell_type": "markdown",
   "id": "8d815c36",
   "metadata": {},
   "source": [
    "- Their is no constant column is present in Numerical as well as categoriacl data.\n"
   ]
  },
  {
   "cell_type": "markdown",
   "id": "b8c9b7a3",
   "metadata": {},
   "source": [
    "### Distribution of Continuous Features:\n",
    " "
   ]
  },
  {
   "cell_type": "markdown",
   "id": "31318f7d",
   "metadata": {},
   "source": [
    "In general, one of the first few steps in exploring the data would be to have a rough idea of how the features are distributed with one another. To do so, we shall invoke the familiar distplot function from the Seaborn plotting library. The distribution has been done by both numerical features. it will show the overall idea about the density and majority of data present in a different level.\n",
    "\n"
   ]
  },
  {
   "cell_type": "markdown",
   "id": "ba7555e4",
   "metadata": {},
   "source": [
    "- The age distribution is starting from 18 to 60 where the most of the employees are laying between 30 to 40 age count\n",
    "- Employees are worked in the multiple companies up to 8 companies where most of the employees worked up to 2 companies before     getting to work here.\n",
    "- The hourly rate range is 65 to 95 for majority employees work in this company.\n",
    "- In General, Most of Employees work up to 5 years in this company. Most of the employees get 11% to 15% of salary hike in this   company. "
   ]
  },
  {
   "cell_type": "markdown",
   "id": "0174ca94",
   "metadata": {},
   "source": [
    "# 5.Data Preprocessing"
   ]
  },
  {
   "cell_type": "markdown",
   "id": "00ea6ea6",
   "metadata": {},
   "source": [
    "- Check Missing Value: Their is no missing value in data\n",
    "\n",
    "- Categorical Data Conversion: Handel categorical data with the help of frequency and mannual encoding, because feature is         contain lot's of labels\n",
    "\n",
    "- Mannual Encoding: Mannual encoding is a best techinque to handel categorical feature with the help of map function, map the     labels based on frequency.\n",
    "\n",
    "- Frequency Encoding: Frequency encoding is an encoding technique to transform an original categorical variable to a numerical     variable by considering the frequency distribution of the data getting value counts.\n",
    "\n",
    "- Outlier Handling Some features are contain outliers so we are impute this outlier with the help of IQR because in all           features data is not normally distributed\n",
    "\n",
    "- Scaling The Data: scaling the data with the help of Standard scalar\n",
    "\n",
    "  Standard Scaling: Standardization is the process of scaling the feature, it assumes the feature follow normal distribution and   scale the feature between mean and standard deviation, here mean is 0 and standard deviation is always 1."
   ]
  },
  {
   "cell_type": "markdown",
   "id": "e37f8f1d",
   "metadata": {},
   "source": [
    "# 6. Feature Selection "
   ]
  },
  {
   "cell_type": "markdown",
   "id": "e847a659",
   "metadata": {},
   "source": [
    "- Drop unique and constant feature: Dropping employee number because this is a constant column as well as drop Years Since Last   Promotion because we create a new feaure using square root transformation\n",
    "\n",
    "- Checking Correlation: Checking correlation with the help of heat map, and get the their is no highly correlated feature is       present.\n",
    "\n",
    "- Heatmap: A heatmap is a graphical representation of data that uses a system of color-coding to represent different values.\n",
    "- Check Duplicates: In this data Their is no dupicates is present.\n",
    "\n",
    "- Saving Pre-Process Data: save the all preprocess data in new file and add target feature to it."
   ]
  },
  {
   "cell_type": "markdown",
   "id": "5e7cd398",
   "metadata": {},
   "source": [
    "# 7.Machine Learning model and Evalution "
   ]
  },
  {
   "cell_type": "markdown",
   "id": "779e5489",
   "metadata": {},
   "source": [
    "- Define Dependant and Independant Features:\n",
    "\n",
    "- Balancing the data: The data is imbalance, so we need to balance the data with the help of SMOTE\n",
    "\n",
    "  SMOTE: SMOTE (synthetic minority oversampling technique) is one of the most commonly used oversampling methods to solve the     imbalance problem. It aims to balance class distribution by randomly increasing minority class examples by replicating them.     SMOTE synthesises new minority instances between existing minority instances.\n",
    "- Splitting Training And Testing Data: 80% data use for training & 20% data used for testing\n",
    "\n"
   ]
  },
  {
   "cell_type": "markdown",
   "id": "1019076c",
   "metadata": {},
   "source": [
    "### Algorithm:"
   ]
  },
  {
   "cell_type": "markdown",
   "id": "c4caef4e",
   "metadata": {},
   "source": [
    "AIM: Create a sweet spot model (Low bias, Low variance)"
   ]
  },
  {
   "cell_type": "markdown",
   "id": "f4cbdaf1",
   "metadata": {},
   "source": [
    "#### HERE WE WILL BE EXPERIMENTING WITH THREE ALGORITHM\n"
   ]
  },
  {
   "cell_type": "markdown",
   "id": "20b1fe23",
   "metadata": {},
   "source": [
    "- Random Forest Classifier\n",
    "- Decison Tree Classifier\n",
    "- Support Vector Machine"
   ]
  },
  {
   "cell_type": "markdown",
   "id": "9fa01ece",
   "metadata": {},
   "source": [
    "- Support vector machine well perform on training data with accuracy 88.81% but the test score is 86.22.\n",
    "- Random forest very well perform in training data with 100% accuracy but in testing 94.61% after doing hyperparameter tunning   testing score is decreases.\n",
    "- Decision Tree Classifier the accuracy is 97.22%"
   ]
  },
  {
   "cell_type": "markdown",
   "id": "3b7c11b8",
   "metadata": {},
   "source": [
    "# 8.Saving Model:"
   ]
  },
  {
   "cell_type": "markdown",
   "id": "85ecafd8",
   "metadata": {},
   "source": [
    "- Save model with the helpof pickle file\n"
   ]
  },
  {
   "cell_type": "markdown",
   "id": "95365a72",
   "metadata": {},
   "source": [
    "# Goal 1: Department Wise Performances\n"
   ]
  },
  {
   "cell_type": "markdown",
   "id": "e1b5a4d6",
   "metadata": {},
   "source": [
    "PLOT USED:\n",
    "\n",
    "- Violinplot: It shows the distribution of quantitative data across several levels of one (or more) categorical variables such     that those distributions can be compared.\n",
    "- CountPlot: countplot is used to Show the counts of observations in each categorical bin using bars.\n",
    "\n",
    "\n"
   ]
  },
  {
   "cell_type": "markdown",
   "id": "03affdd8",
   "metadata": {},
   "source": [
    "- Sales: The Performace rating level 3 is more in the sales department. The male performance rating the little bit higher       compared to female.\n",
    "\n",
    "- Human Resources: The majority of the employees lying under the level 3 performance . The older people are performing low in this department. The female employees in HR department doing really well in their performance.\n",
    "\n",
    "- Development: The maximum number of employees are level 3 performers. Employees of all age are performing at the level of 3 only. The gender-based performance is nearly same for both.\n",
    "\n",
    "- Data Science: The highest average of level 3 performance is in data science department. Data science is the only department where less number of level 2 performers. The overall performance is higher compared to all departments. Male employees are doing good in this department.\n",
    "\n",
    "- Research & Development: The age factor is not deviating from the level of performance here where different employees with different age are there in every level of performance. The R&D has the good female employees in their performance.\n",
    "\n",
    "- Finance: The finance department performance is exponentially decreasing when age increases. The male employees are doing good. The experience factor is inversely relating to the performance level."
   ]
  },
  {
   "cell_type": "markdown",
   "id": "53d6c151",
   "metadata": {},
   "source": [
    "# Goal 2: Top 3 Important Factors effecting employee performance\n"
   ]
  },
  {
   "cell_type": "markdown",
   "id": "99f26a90",
   "metadata": {},
   "source": [
    "The top three important features affecting the performance rating are ordered with their importance level as follows,\n",
    "\n",
    "- Employment Environment Satisfaction\n",
    "- Employee Salary Hike Percentage\n",
    "- Experience Years In CurrentRole\n",
    "\n",
    "\n"
   ]
  },
  {
   "cell_type": "markdown",
   "id": "9bcb9305",
   "metadata": {},
   "source": [
    " - Employee Enviroment satisfaction: Maximum Number of Employees Performance Rating belongs to EmpEnvironmentSatisfaction Level 3 & Level 4, It contains 367 & 361.\n",
    "\n",
    "- Employee last salary hike percent: More Number of Employees whose salary hike percentage belongs to 11-19 % are getting 2 & 3 performance rating Maximum time. as well asEmployees whose salary hike percentage is in between 20-22%, There performance rating is 4.\n",
    "\n",
    "- Employee work life balance: In EmpWorkLifeBalance, level 3 is showing high Performance Rating of employees"
   ]
  },
  {
   "cell_type": "markdown",
   "id": "5c039fdb",
   "metadata": {},
   "source": [
    "# Goal 3: A Trained model which can predict the employee performance\n"
   ]
  },
  {
   "cell_type": "markdown",
   "id": "bb0fe633",
   "metadata": {},
   "source": [
    "The trained model is created using the machine learning algorithm as follows with the accuracy score,\n",
    "\n",
    "- Support Vector Classifier: 98.28% accuracy\n",
    "- Random Forest classifier: 95.61% accuracy\n",
    "- Decision Tree Classifier:"
   ]
  },
  {
   "cell_type": "markdown",
   "id": "4007c680",
   "metadata": {},
   "source": [
    "# Goal 4: Recommendations to improve the employee performance\n"
   ]
  },
  {
   "cell_type": "markdown",
   "id": "a7c626ba",
   "metadata": {},
   "source": [
    "- The overall employee performance can be achieved by employee environment satisfaction. The company needs to focus more on the employee environment satisfaction.\n",
    "- The salary hike will give the boost to the employees to perform well.\n",
    "- Promote the employee ervery 6th month\n",
    "- Improve Employee's work-life balance this affects the performance rating.\n",
    "- While recruiting for HR, consider the female candidates where they perform well compared to male.\n",
    "- The development and sales department is having an overall higher performance comparing to rest of the departments. While some of the employees who gives feedback like Low & Medium from Job Satisfaction & Relationship Satisfaction feature, such employees gives Excellent performance more in number. So company should focus on them. "
   ]
  },
  {
   "cell_type": "code",
   "execution_count": 1,
   "id": "58c4d6b3",
   "metadata": {},
   "outputs": [
    {
     "data": {
      "text/plain": [
       "'C:\\\\Users\\\\komal\\\\desktop\\\\IABAC Project'"
      ]
     },
     "execution_count": 1,
     "metadata": {},
     "output_type": "execute_result"
    }
   ],
   "source": [
    "pwd"
   ]
  },
  {
   "cell_type": "code",
   "execution_count": null,
   "id": "c1fc47d1",
   "metadata": {},
   "outputs": [],
   "source": []
  }
 ],
 "metadata": {
  "kernelspec": {
   "display_name": "Python 3 (ipykernel)",
   "language": "python",
   "name": "python3"
  },
  "language_info": {
   "codemirror_mode": {
    "name": "ipython",
    "version": 3
   },
   "file_extension": ".py",
   "mimetype": "text/x-python",
   "name": "python",
   "nbconvert_exporter": "python",
   "pygments_lexer": "ipython3",
   "version": "3.11.4"
  }
 },
 "nbformat": 4,
 "nbformat_minor": 5
}
